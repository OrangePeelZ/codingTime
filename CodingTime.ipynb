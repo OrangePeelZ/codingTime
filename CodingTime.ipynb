{
 "cells": [
  {
   "cell_type": "markdown",
   "metadata": {},
   "source": [
    "## Hamming Distance\n"
   ]
  },
  {
   "cell_type": "code",
   "execution_count": 1,
   "metadata": {
    "collapsed": false
   },
   "outputs": [
    {
     "name": "stdout",
     "output_type": "stream",
     "text": [
      "([1], [0, 0, 1])\n",
      "[1, 0, 1]\n"
     ]
    },
    {
     "data": {
      "text/plain": [
       "2"
      ]
     },
     "execution_count": 1,
     "metadata": {},
     "output_type": "execute_result"
    }
   ],
   "source": [
    "def hammingDistance(x, y):\n",
    "    \"\"\"\n",
    "    :type x: int\n",
    "    :type y: int\n",
    "    :rtype: int\n",
    "    \"\"\"\n",
    "    xl = []\n",
    "    yl = []\n",
    "    while (x > 0):\n",
    "        xl.append(x%2)\n",
    "        x = x/2\n",
    "    while (y > 0):\n",
    "        yl.append(y%2)\n",
    "        y = y/2\n",
    "    print(xl, yl)\n",
    "    \n",
    "    compare = []\n",
    "    for i in range(min(len(xl), len(yl))):\n",
    "        compare.append(int(xl[i] != yl[i]))\n",
    "\n",
    "    tmp = min(len(xl), len(yl))\n",
    "    compare.extend(xl[tmp:])\n",
    "    compare.extend(yl[tmp:])\n",
    "    return sum(compare)\n",
    "\n",
    "\n",
    "hammingDistance(1,4)"
   ]
  },
  {
   "cell_type": "markdown",
   "metadata": {
    "collapsed": true
   },
   "source": [
    "## Judge Route Circle\n"
   ]
  },
  {
   "cell_type": "code",
   "execution_count": 12,
   "metadata": {
    "collapsed": false
   },
   "outputs": [
    {
     "data": {
      "text/plain": [
       "False"
      ]
     },
     "execution_count": 12,
     "metadata": {},
     "output_type": "execute_result"
    }
   ],
   "source": [
    "class Solution(object):\n",
    "    def judgeCircle(self, moves):\n",
    "        \"\"\"\n",
    "        :type moves: str\n",
    "        :rtype: bool\n",
    "        \"\"\"\n",
    "        tmp = []\n",
    "        dic = {\"U\": (1,\"v\"),\n",
    "               \"D\": (-1,\"v\"),\n",
    "               \"L\": (1,\"h\"),\n",
    "               \"R\": (-1,\"h\")}\n",
    "        for i in moves:\n",
    "            tmp.append(dic.get(i))\n",
    "        ver = [i[0] for i in tmp if i[1] == \"v\"]\n",
    "        hor = [i[0] for i in tmp if i[1] == \"h\"]\n",
    "        if sum(ver) == 0 and sum(hor) == 0:\n",
    "            return True\n",
    "        else: return False\n",
    "\n",
    "a = Solution()\n",
    "Solution.judgeCircle(a, moves = \"UUDD\")\n",
    "Solution.judgeCircle(a, moves = \"UUDDLRR\")\n",
    "        "
   ]
  },
  {
   "cell_type": "markdown",
   "metadata": {},
   "source": [
    "## Merge Two Binary Tree"
   ]
  },
  {
   "cell_type": "code",
   "execution_count": null,
   "metadata": {
    "collapsed": true
   },
   "outputs": [],
   "source": [
    "# Definition for a binary tree node.\n",
    "# class TreeNode(object):\n",
    "#     def __init__(self, x):\n",
    "#         self.val = x\n",
    "#         self.left = None\n",
    "#         self.right = None\n",
    "\n",
    "class Solution(object):\n",
    "    def mergeTrees(self, t1, t2):\n",
    "        \"\"\"\n",
    "        :type t1: TreeNode\n",
    "        :type t2: TreeNode\n",
    "        :rtype: TreeNode\n",
    "        \"\"\"\n",
    "        if t1 == None and t2 == None: return None\n",
    "        elif t1 == None and t2 != None: return t2\n",
    "        elif t2 == None and t1 != None: return t1\n",
    "        else:\n",
    "            tn = TreeNode(t1.val + t2.val)\n",
    "            tn.left = Solution.mergeTrees(self, t1.left, t2.left)\n",
    "            tn.right = Solution.mergeTrees(self, t1.right, t2.right)\n",
    "            return tn\n",
    "\n",
    "a = Solution()\n",
    "a.mergeTrees()\n",
    "        "
   ]
  },
  {
   "cell_type": "markdown",
   "metadata": {},
   "source": [
    "## Arrary Partition I"
   ]
  },
  {
   "cell_type": "code",
   "execution_count": 15,
   "metadata": {
    "collapsed": true
   },
   "outputs": [],
   "source": [
    "class Solution(object):\n",
    "    def arrayPairSum(self, nums):\n",
    "        \"\"\"\n",
    "        :type nums: List[int]\n",
    "        :rtype: int\n",
    "        \"\"\"\n",
    "        n = len(nums)\n",
    "        nums.sort()\n",
    "        minLst = [min(nums[i], num[i+1]) for i in range(0, n, 2)]\n",
    "        return sum(minLst)"
   ]
  },
  {
   "cell_type": "code",
   "execution_count": 14,
   "metadata": {
    "collapsed": false
   },
   "outputs": [
    {
     "data": {
      "text/plain": [
       "[0, 2, 4, 6, 8]"
      ]
     },
     "execution_count": 14,
     "metadata": {},
     "output_type": "execute_result"
    }
   ],
   "source": [
    "range(0, 10, 2)"
   ]
  }
 ],
 "metadata": {
  "kernelspec": {
   "display_name": "Python 2",
   "language": "python",
   "name": "python2"
  },
  "language_info": {
   "codemirror_mode": {
    "name": "ipython",
    "version": 2
   },
   "file_extension": ".py",
   "mimetype": "text/x-python",
   "name": "python",
   "nbconvert_exporter": "python",
   "pygments_lexer": "ipython2",
   "version": "2.7.10"
  }
 },
 "nbformat": 4,
 "nbformat_minor": 0
}
